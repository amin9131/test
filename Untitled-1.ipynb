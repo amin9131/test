{
 "cells": [
  {
   "cell_type": "code",
   "execution_count": 5,
   "metadata": {},
   "outputs": [],
   "source": [
    "import scipy.io.wavfile as wav\n",
    "import numpy as np\n",
    "audio_path = 'D:/tutorials/University/AASP\\proposal/dataset/SELD - DCASE/2023/mic_dev/dev-test-sony/fold4_room23_mix001.wav'\n",
    "fs, audio = wav.read(audio_path)\n",
    "# Normalize each channel separately\n",
    "audio_norm = audio / np.max(np.abs(audio), axis=0)\n",
    "# Concatenate the four channels\n",
    "concatenated_audio = np.concatenate((audio_norm[:, 0], audio_norm[:, 1], audio_norm[:, 2], audio_norm[:, 3]), axis=0)\n",
    "\n",
    "#audio = audio[:, :self._nb_channels] / 32768.0 + self._eps"
   ]
  }
 ],
 "metadata": {
  "kernelspec": {
   "display_name": "Python 3",
   "language": "python",
   "name": "python3"
  },
  "language_info": {
   "codemirror_mode": {
    "name": "ipython",
    "version": 3
   },
   "file_extension": ".py",
   "mimetype": "text/x-python",
   "name": "python",
   "nbconvert_exporter": "python",
   "pygments_lexer": "ipython3",
   "version": "3.10.7"
  }
 },
 "nbformat": 4,
 "nbformat_minor": 2
}
